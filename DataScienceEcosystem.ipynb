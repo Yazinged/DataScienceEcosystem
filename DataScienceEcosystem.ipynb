{
 "cells": [
  {
   "cell_type": "markdown",
   "id": "ad673aa9-dea3-4b7a-a852-c6edadd80a2d",
   "metadata": {},
   "source": [
    "# Data Science Tools and Ecosystem"
   ]
  },
  {
   "cell_type": "markdown",
   "id": "b31b2629-881d-40a6-bb7c-b1f7c6217a5b",
   "metadata": {},
   "source": [
    "In this notebook, Data Science Tools and Ecosystem are summarized."
   ]
  },
  {
   "cell_type": "markdown",
   "id": "2e9bfbd2-879b-4902-8f87-74f502b90322",
   "metadata": {},
   "source": [
    "**Objectives:**\n",
    "- List popular languages for Data Science\n",
    "- List commonly used libraries for Data Science\n",
    "- Show an example for basic arithmetic in Python"
   ]
  },
  {
   "cell_type": "markdown",
   "id": "2931c177-d21d-4c7a-a342-936b95348c4f",
   "metadata": {},
   "source": [
    "Some of the popular languages that Data Scientists use are:\n",
    "1. Python\n",
    "2. R\n",
    "3. SQL\n",
    "4. Java\n",
    "5. Julia"
   ]
  },
  {
   "cell_type": "markdown",
   "id": "f1e9c60f-bdb2-45b3-99b9-8d50923f7917",
   "metadata": {},
   "source": [
    "Some of the commonly used libraries used by Data Scientists include:\n",
    "1. NumPy\n",
    "2. Pandas\n",
    "3. Matplotlib\n",
    "4. ggplot2\n",
    "5. MySQL"
   ]
  },
  {
   "cell_type": "markdown",
   "id": "622c4252-3eec-41c1-8329-d488fca9b933",
   "metadata": {
    "jp-MarkdownHeadingCollapsed": true
   },
   "source": [
    "|Data Science Tools|\n",
    "|------------------|\n",
    "|JupyterLab|\n",
    "|Vs Code|\n",
    "|R Studio|"
   ]
  },
  {
   "cell_type": "markdown",
   "id": "b4239241-4b4a-48a7-b3f0-0b2f09c3e307",
   "metadata": {},
   "source": [
    "### Below are a few examples of evaluating arithmetic expressions in Python"
   ]
  },
  {
   "cell_type": "code",
   "execution_count": 4,
   "id": "77b18efe-b9b1-4db4-a3d1-6ee1091c697e",
   "metadata": {},
   "outputs": [
    {
     "data": {
      "text/plain": [
       "17"
      ]
     },
     "execution_count": 4,
     "metadata": {},
     "output_type": "execute_result"
    }
   ],
   "source": [
    "# This a simple arithmetic expression to mutiply then add integers\n",
    "(3*4)+5"
   ]
  },
  {
   "cell_type": "code",
   "execution_count": 19,
   "id": "7ee162d0-8a41-44f7-b1f3-0a51c4c24662",
   "metadata": {},
   "outputs": [
    {
     "name": "stdout",
     "output_type": "stream",
     "text": [
      "3 hours and 20 minutes\n"
     ]
    }
   ],
   "source": [
    "# This will convert 200 minutes to hours\n",
    "x = 200/60\n",
    "Hours = int(x)\n",
    "minutes = int((x% 1)*60)\n",
    "print(Hours, \"hours and\", minutes, \"minutes\")"
   ]
  },
  {
   "cell_type": "markdown",
   "id": "e53f9847-9eaf-4b65-9670-9e6e869e79b2",
   "metadata": {},
   "source": [
    "## Author\n",
    "Yazan Mohammed"
   ]
  }
 ],
 "metadata": {
  "kernelspec": {
   "display_name": "Python 3 (ipykernel)",
   "language": "python",
   "name": "python3"
  },
  "language_info": {
   "codemirror_mode": {
    "name": "ipython",
    "version": 3
   },
   "file_extension": ".py",
   "mimetype": "text/x-python",
   "name": "python",
   "nbconvert_exporter": "python",
   "pygments_lexer": "ipython3",
   "version": "3.11.13"
  }
 },
 "nbformat": 4,
 "nbformat_minor": 5
}
